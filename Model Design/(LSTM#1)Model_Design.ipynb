{
 "cells": [
  {
   "cell_type": "code",
   "execution_count": 1,
   "metadata": {},
   "outputs": [],
   "source": [
    "import pandas as pd\n",
    "import matplotlib.pyplot as plt "
   ]
  },
  {
   "cell_type": "code",
   "execution_count": 2,
   "metadata": {},
   "outputs": [],
   "source": [
    "df = pd.read_csv('Raabta_dataset - donations.csv')"
   ]
  },
  {
   "cell_type": "code",
   "execution_count": 3,
   "metadata": {},
   "outputs": [
    {
     "data": {
      "text/html": [
       "<div>\n",
       "<style scoped>\n",
       "    .dataframe tbody tr th:only-of-type {\n",
       "        vertical-align: middle;\n",
       "    }\n",
       "\n",
       "    .dataframe tbody tr th {\n",
       "        vertical-align: top;\n",
       "    }\n",
       "\n",
       "    .dataframe thead th {\n",
       "        text-align: right;\n",
       "    }\n",
       "</style>\n",
       "<table border=\"1\" class=\"dataframe\">\n",
       "  <thead>\n",
       "    <tr style=\"text-align: right;\">\n",
       "      <th></th>\n",
       "      <th>Unnamed: 0</th>\n",
       "      <th>Unnamed: 0.1</th>\n",
       "      <th>Unnamed: 0.1.1</th>\n",
       "      <th>Unnamed: 0.1.1.1</th>\n",
       "      <th>Unnamed: 0.1.1.1.1</th>\n",
       "      <th>Label</th>\n",
       "      <th>body</th>\n",
       "    </tr>\n",
       "  </thead>\n",
       "  <tbody>\n",
       "    <tr>\n",
       "      <td>0</td>\n",
       "      <td>0</td>\n",
       "      <td>0</td>\n",
       "      <td>0</td>\n",
       "      <td>0</td>\n",
       "      <td>0</td>\n",
       "      <td>basicneeds</td>\n",
       "      <td>I'm homeless, fleeing past abusers, and curren...</td>\n",
       "    </tr>\n",
       "    <tr>\n",
       "      <td>1</td>\n",
       "      <td>1</td>\n",
       "      <td>1</td>\n",
       "      <td>1</td>\n",
       "      <td>1</td>\n",
       "      <td>1</td>\n",
       "      <td>loan</td>\n",
       "      <td>Hi I’m in deep trouble I’m about 90 miles away...</td>\n",
       "    </tr>\n",
       "    <tr>\n",
       "      <td>2</td>\n",
       "      <td>2</td>\n",
       "      <td>2</td>\n",
       "      <td>2</td>\n",
       "      <td>2</td>\n",
       "      <td>2</td>\n",
       "      <td>medical</td>\n",
       "      <td>[Charity Boxing Match](https://www.justgiving....</td>\n",
       "    </tr>\n",
       "    <tr>\n",
       "      <td>3</td>\n",
       "      <td>3</td>\n",
       "      <td>3</td>\n",
       "      <td>3</td>\n",
       "      <td>3</td>\n",
       "      <td>3</td>\n",
       "      <td>misc</td>\n",
       "      <td>paypal email : ollieboyles@gmail.com</td>\n",
       "    </tr>\n",
       "    <tr>\n",
       "      <td>4</td>\n",
       "      <td>4</td>\n",
       "      <td>4</td>\n",
       "      <td>4</td>\n",
       "      <td>4</td>\n",
       "      <td>4</td>\n",
       "      <td>misc</td>\n",
       "      <td>There are some truly serious things on this su...</td>\n",
       "    </tr>\n",
       "  </tbody>\n",
       "</table>\n",
       "</div>"
      ],
      "text/plain": [
       "   Unnamed: 0  Unnamed: 0.1  Unnamed: 0.1.1  Unnamed: 0.1.1.1  \\\n",
       "0           0             0               0                 0   \n",
       "1           1             1               1                 1   \n",
       "2           2             2               2                 2   \n",
       "3           3             3               3                 3   \n",
       "4           4             4               4                 4   \n",
       "\n",
       "   Unnamed: 0.1.1.1.1       Label  \\\n",
       "0                   0  basicneeds   \n",
       "1                   1        loan   \n",
       "2                   2     medical   \n",
       "3                   3        misc   \n",
       "4                   4        misc   \n",
       "\n",
       "                                                body  \n",
       "0  I'm homeless, fleeing past abusers, and curren...  \n",
       "1  Hi I’m in deep trouble I’m about 90 miles away...  \n",
       "2  [Charity Boxing Match](https://www.justgiving....  \n",
       "3               paypal email : ollieboyles@gmail.com  \n",
       "4  There are some truly serious things on this su...  "
      ]
     },
     "execution_count": 3,
     "metadata": {},
     "output_type": "execute_result"
    }
   ],
   "source": [
    "df.head()"
   ]
  },
  {
   "cell_type": "code",
   "execution_count": 4,
   "metadata": {},
   "outputs": [
    {
     "data": {
      "text/plain": [
       "(372, 7)"
      ]
     },
     "execution_count": 4,
     "metadata": {},
     "output_type": "execute_result"
    }
   ],
   "source": [
    "df.shape"
   ]
  },
  {
   "cell_type": "code",
   "execution_count": 6,
   "metadata": {},
   "outputs": [],
   "source": [
    "df = df[['Label','body']]"
   ]
  },
  {
   "cell_type": "code",
   "execution_count": 7,
   "metadata": {},
   "outputs": [
    {
     "data": {
      "text/plain": [
       "array(['basicneeds', 'loan', 'medical', 'misc', 'bills', 'education',\n",
       "       'pets'], dtype=object)"
      ]
     },
     "execution_count": 7,
     "metadata": {},
     "output_type": "execute_result"
    }
   ],
   "source": [
    "df['Label'].unique()"
   ]
  },
  {
   "cell_type": "code",
   "execution_count": 8,
   "metadata": {},
   "outputs": [
    {
     "name": "stderr",
     "output_type": "stream",
     "text": [
      "/Users/junaid/.local/lib/python3.6/site-packages/pandas/core/generic.py:6702: SettingWithCopyWarning: \n",
      "A value is trying to be set on a copy of a slice from a DataFrame.\n",
      "Try using .loc[row_indexer,col_indexer] = value instead\n",
      "\n",
      "See the caveats in the documentation: http://pandas.pydata.org/pandas-docs/stable/user_guide/indexing.html#returning-a-view-versus-a-copy\n",
      "  regex=regex,\n"
     ]
    }
   ],
   "source": [
    "df.replace({'Label': {'Basic needs': 'basicneeds', \n",
    "                      'basic needs': 'basicneeds', \n",
    "                      'Basic needs/medical?': 'basicneeds',\n",
    "                      'Basic Needs': 'basicneeds'}}, inplace = True)"
   ]
  },
  {
   "cell_type": "code",
   "execution_count": 9,
   "metadata": {},
   "outputs": [],
   "source": [
    "df.replace({'Label': {'loans': 'loan', \n",
    "                      'Loans': 'loan', \n",
    "                      'Loan': 'loan'}}, inplace = True)"
   ]
  },
  {
   "cell_type": "code",
   "execution_count": 10,
   "metadata": {},
   "outputs": [],
   "source": [
    "df.replace({'Label': {'Misc': 'misc', \n",
    "                      'MIsc': 'misc'}}, inplace = True)"
   ]
  },
  {
   "cell_type": "code",
   "execution_count": 11,
   "metadata": {},
   "outputs": [],
   "source": [
    "df.replace({'Label': {'Pets': 'pets', \n",
    "                      'Animals': 'pets'}}, inplace = True)"
   ]
  },
  {
   "cell_type": "code",
   "execution_count": 12,
   "metadata": {},
   "outputs": [],
   "source": [
    "df.replace({'Label': {'Bills': 'bills'}}, inplace = True)"
   ]
  },
  {
   "cell_type": "code",
   "execution_count": 13,
   "metadata": {},
   "outputs": [],
   "source": [
    "df.replace({'Label': {'Medical': 'medical'}}, inplace = True)"
   ]
  },
  {
   "cell_type": "code",
   "execution_count": 14,
   "metadata": {},
   "outputs": [],
   "source": [
    "df.replace({'Label': {'Education': 'education'}}, inplace = True)"
   ]
  },
  {
   "cell_type": "code",
   "execution_count": 15,
   "metadata": {},
   "outputs": [
    {
     "name": "stderr",
     "output_type": "stream",
     "text": [
      "/anaconda3/lib/python3.6/site-packages/ipykernel_launcher.py:1: SettingWithCopyWarning: \n",
      "A value is trying to be set on a copy of a slice from a DataFrame\n",
      "\n",
      "See the caveats in the documentation: http://pandas.pydata.org/pandas-docs/stable/user_guide/indexing.html#returning-a-view-versus-a-copy\n",
      "  \"\"\"Entry point for launching an IPython kernel.\n"
     ]
    }
   ],
   "source": [
    "df.dropna(inplace=True)"
   ]
  },
  {
   "cell_type": "code",
   "execution_count": 16,
   "metadata": {},
   "outputs": [],
   "source": [
    "df.to_csv(r'Raabta_dataset - donations.csv')"
   ]
  },
  {
   "cell_type": "code",
   "execution_count": 17,
   "metadata": {},
   "outputs": [
    {
     "name": "stdout",
     "output_type": "stream",
     "text": [
      "[nltk_data] Downloading package stopwords to\n",
      "[nltk_data]     /Users/junaid/nltk_data...\n",
      "[nltk_data]   Package stopwords is already up-to-date!\n"
     ]
    },
    {
     "data": {
      "text/plain": [
       "True"
      ]
     },
     "execution_count": 17,
     "metadata": {},
     "output_type": "execute_result"
    }
   ],
   "source": [
    "import nltk\n",
    "nltk.download('stopwords')"
   ]
  },
  {
   "cell_type": "code",
   "execution_count": 18,
   "metadata": {},
   "outputs": [
    {
     "name": "stderr",
     "output_type": "stream",
     "text": [
      "/anaconda3/lib/python3.6/site-packages/tensorflow/python/framework/dtypes.py:526: FutureWarning: Passing (type, 1) or '1type' as a synonym of type is deprecated; in a future version of numpy, it will be understood as (type, (1,)) / '(1,)type'.\n",
      "  _np_qint8 = np.dtype([(\"qint8\", np.int8, 1)])\n",
      "/anaconda3/lib/python3.6/site-packages/tensorflow/python/framework/dtypes.py:527: FutureWarning: Passing (type, 1) or '1type' as a synonym of type is deprecated; in a future version of numpy, it will be understood as (type, (1,)) / '(1,)type'.\n",
      "  _np_quint8 = np.dtype([(\"quint8\", np.uint8, 1)])\n",
      "/anaconda3/lib/python3.6/site-packages/tensorflow/python/framework/dtypes.py:528: FutureWarning: Passing (type, 1) or '1type' as a synonym of type is deprecated; in a future version of numpy, it will be understood as (type, (1,)) / '(1,)type'.\n",
      "  _np_qint16 = np.dtype([(\"qint16\", np.int16, 1)])\n",
      "/anaconda3/lib/python3.6/site-packages/tensorflow/python/framework/dtypes.py:529: FutureWarning: Passing (type, 1) or '1type' as a synonym of type is deprecated; in a future version of numpy, it will be understood as (type, (1,)) / '(1,)type'.\n",
      "  _np_quint16 = np.dtype([(\"quint16\", np.uint16, 1)])\n",
      "/anaconda3/lib/python3.6/site-packages/tensorflow/python/framework/dtypes.py:530: FutureWarning: Passing (type, 1) or '1type' as a synonym of type is deprecated; in a future version of numpy, it will be understood as (type, (1,)) / '(1,)type'.\n",
      "  _np_qint32 = np.dtype([(\"qint32\", np.int32, 1)])\n",
      "/anaconda3/lib/python3.6/site-packages/tensorflow/python/framework/dtypes.py:535: FutureWarning: Passing (type, 1) or '1type' as a synonym of type is deprecated; in a future version of numpy, it will be understood as (type, (1,)) / '(1,)type'.\n",
      "  np_resource = np.dtype([(\"resource\", np.ubyte, 1)])\n"
     ]
    },
    {
     "name": "stdout",
     "output_type": "stream",
     "text": [
      "1.13.1\n"
     ]
    }
   ],
   "source": [
    "import csv\n",
    "import tensorflow as tf\n",
    "import numpy as np\n",
    "from tensorflow.keras.preprocessing.text import Tokenizer\n",
    "from tensorflow.keras.preprocessing.sequence import pad_sequences\n",
    "from nltk.corpus import stopwords\n",
    "STOPWORDS = set(stopwords.words('english'))\n",
    "\n",
    "print(tf.__version__)"
   ]
  },
  {
   "cell_type": "code",
   "execution_count": 65,
   "metadata": {},
   "outputs": [],
   "source": [
    "vocab_size = 5000\n",
    "embedding_dim = 64\n",
    "max_length = 200\n",
    "trunc_type = 'post'\n",
    "padding_type = 'post'\n",
    "oov_tok = '<OOV>'\n",
    "training_portion = .5"
   ]
  },
  {
   "cell_type": "code",
   "execution_count": 66,
   "metadata": {},
   "outputs": [
    {
     "name": "stdout",
     "output_type": "stream",
     "text": [
      "372\n",
      "372\n"
     ]
    }
   ],
   "source": [
    "articles = []\n",
    "labels = []\n",
    "\n",
    "with open(\"Raabta_dataset - donations.csv\", 'r') as csvfile:\n",
    "    reader = csv.reader(csvfile, delimiter=',')\n",
    "    next(reader)\n",
    "    for row in reader:\n",
    "        labels.append(row[1])\n",
    "        article = row[2]\n",
    "        for word in STOPWORDS:\n",
    "            token = ' ' + word + ' '\n",
    "            article = article.replace(token, ' ')\n",
    "            article = article.replace(' ', ' ')\n",
    "        articles.append(article)\n",
    "print(len(labels))\n",
    "print(len(articles))"
   ]
  },
  {
   "cell_type": "code",
   "execution_count": 67,
   "metadata": {},
   "outputs": [
    {
     "name": "stdout",
     "output_type": "stream",
     "text": [
      "186\n",
      "186\n",
      "186\n",
      "186\n",
      "186\n"
     ]
    }
   ],
   "source": [
    "train_size = int(len(articles) * training_portion)\n",
    "\n",
    "train_articles = articles[0: train_size]\n",
    "train_labels = labels[0: train_size]\n",
    "\n",
    "validation_articles = articles[train_size:]\n",
    "validation_labels = labels[train_size:]\n",
    "\n",
    "print(train_size)\n",
    "print(len(train_articles))\n",
    "print(len(train_labels))\n",
    "print(len(validation_articles))\n",
    "print(len(validation_labels))"
   ]
  },
  {
   "cell_type": "code",
   "execution_count": 68,
   "metadata": {},
   "outputs": [
    {
     "data": {
      "text/plain": [
       "{'<OOV>': 1,\n",
       " 'i': 2,\n",
       " 'help': 3,\n",
       " \"i'm\": 4,\n",
       " 'https': 5,\n",
       " 'get': 6,\n",
       " 'paypal': 7,\n",
       " 'would': 8,\n",
       " 'me': 9,\n",
       " 'money': 10}"
      ]
     },
     "execution_count": 68,
     "metadata": {},
     "output_type": "execute_result"
    }
   ],
   "source": [
    "tokenizer = Tokenizer(num_words = vocab_size, oov_token=oov_tok)\n",
    "tokenizer.fit_on_texts(train_articles)\n",
    "word_index = tokenizer.word_index\n",
    "dict(list(word_index.items())[0:10])"
   ]
  },
  {
   "cell_type": "code",
   "execution_count": 69,
   "metadata": {},
   "outputs": [
    {
     "name": "stdout",
     "output_type": "stream",
     "text": [
      "[229, 159, 1067, 1727, 265, 617, 10, 3, 1068, 1728, 369, 116, 1729, 51, 370, 504, 1730, 1069, 169, 291, 371, 618, 215, 72, 799, 617, 220, 372, 245, 431, 202, 151, 373, 1731, 1732, 800, 505, 1733, 619, 620, 1734, 1735, 1070, 1736, 757, 1071, 59, 1072, 801, 802, 1737, 66, 17, 94, 432, 620, 12, 160, 1738, 66, 10, 1739, 432, 6, 803, 1740, 17, 313, 89, 2, 111, 3, 129, 1073, 169, 621, 33, 88, 620, 1741, 105, 65, 620, 1074, 73, 114, 50, 23, 5, 23, 1075, 203, 1076, 1077, 1078, 1079, 804, 1080, 1081, 5, 23, 1075, 203, 1076, 1077, 1078, 1079, 804, 1080, 1081]\n"
     ]
    }
   ],
   "source": [
    "train_sequences = tokenizer.texts_to_sequences(train_articles)\n",
    "print(train_sequences[10])"
   ]
  },
  {
   "cell_type": "code",
   "execution_count": 70,
   "metadata": {},
   "outputs": [
    {
     "name": "stdout",
     "output_type": "stream",
     "text": [
      "61\n",
      "200\n",
      "45\n",
      "200\n",
      "110\n",
      "200\n"
     ]
    }
   ],
   "source": [
    "train_padded = pad_sequences(train_sequences, maxlen=max_length, padding=padding_type, truncating=trunc_type)\n",
    "print(len(train_sequences[0]))\n",
    "print(len(train_padded[0]))\n",
    "\n",
    "print(len(train_sequences[1]))\n",
    "print(len(train_padded[1]))\n",
    "\n",
    "print(len(train_sequences[10]))\n",
    "print(len(train_padded[10]))"
   ]
  },
  {
   "cell_type": "code",
   "execution_count": 71,
   "metadata": {},
   "outputs": [
    {
     "name": "stdout",
     "output_type": "stream",
     "text": [
      "[ 229  159 1067 1727  265  617   10    3 1068 1728  369  116 1729   51\n",
      "  370  504 1730 1069  169  291  371  618  215   72  799  617  220  372\n",
      "  245  431  202  151  373 1731 1732  800  505 1733  619  620 1734 1735\n",
      " 1070 1736  757 1071   59 1072  801  802 1737   66   17   94  432  620\n",
      "   12  160 1738   66   10 1739  432    6  803 1740   17  313   89    2\n",
      "  111    3  129 1073  169  621   33   88  620 1741  105   65  620 1074\n",
      "   73  114   50   23    5   23 1075  203 1076 1077 1078 1079  804 1080\n",
      " 1081    5   23 1075  203 1076 1077 1078 1079  804 1080 1081    0    0\n",
      "    0    0    0    0    0    0    0    0    0    0    0    0    0    0\n",
      "    0    0    0    0    0    0    0    0    0    0    0    0    0    0\n",
      "    0    0    0    0    0    0    0    0    0    0    0    0    0    0\n",
      "    0    0    0    0    0    0    0    0    0    0    0    0    0    0\n",
      "    0    0    0    0    0    0    0    0    0    0    0    0    0    0\n",
      "    0    0    0    0    0    0    0    0    0    0    0    0    0    0\n",
      "    0    0    0    0]\n"
     ]
    }
   ],
   "source": [
    "print(train_padded[10])"
   ]
  },
  {
   "cell_type": "code",
   "execution_count": 72,
   "metadata": {},
   "outputs": [
    {
     "name": "stdout",
     "output_type": "stream",
     "text": [
      "186\n",
      "(186, 200)\n"
     ]
    }
   ],
   "source": [
    "validation_sequences = tokenizer.texts_to_sequences(validation_articles)\n",
    "validation_padded = pad_sequences(validation_sequences, maxlen=max_length, padding=padding_type, truncating=trunc_type)\n",
    "\n",
    "print(len(validation_sequences))\n",
    "print(validation_padded.shape)"
   ]
  },
  {
   "cell_type": "code",
   "execution_count": 73,
   "metadata": {},
   "outputs": [
    {
     "name": "stdout",
     "output_type": "stream",
     "text": [
      "[2]\n",
      "[7]\n",
      "[4]\n",
      "(186, 1)\n",
      "[1]\n",
      "[2]\n",
      "[2]\n",
      "(186, 1)\n"
     ]
    }
   ],
   "source": [
    "label_tokenizer = Tokenizer()\n",
    "label_tokenizer.fit_on_texts(labels)\n",
    "\n",
    "training_label_seq = np.array(label_tokenizer.texts_to_sequences(train_labels))\n",
    "validation_label_seq = np.array(label_tokenizer.texts_to_sequences(validation_labels))\n",
    "print(training_label_seq[0])\n",
    "print(training_label_seq[1])\n",
    "print(training_label_seq[2])\n",
    "print(training_label_seq.shape)\n",
    "\n",
    "print(validation_label_seq[0])\n",
    "print(validation_label_seq[1])\n",
    "print(validation_label_seq[2])\n",
    "print(validation_label_seq.shape)"
   ]
  },
  {
   "cell_type": "code",
   "execution_count": 74,
   "metadata": {},
   "outputs": [],
   "source": [
    "# reverse_word_index = dict([(value, key) for (key, value) in word_index.items()])\n",
    "\n",
    "# def decode_article(text):\n",
    "#     return ' '.join([reverse_word_index.get(i, '?') for i in text])\n",
    "# print(decode_article(train_padded[10]))\n",
    "# print('---')\n",
    "# print(train_articles[20])"
   ]
  },
  {
   "cell_type": "markdown",
   "metadata": {},
   "source": [
    "### Design LSTM"
   ]
  },
  {
   "cell_type": "code",
   "execution_count": 75,
   "metadata": {},
   "outputs": [
    {
     "name": "stdout",
     "output_type": "stream",
     "text": [
      "_________________________________________________________________\n",
      "Layer (type)                 Output Shape              Param #   \n",
      "=================================================================\n",
      "embedding_3 (Embedding)      (None, None, 64)          320000    \n",
      "_________________________________________________________________\n",
      "bidirectional_3 (Bidirection (None, 128)               66048     \n",
      "_________________________________________________________________\n",
      "dense_6 (Dense)              (None, 64)                8256      \n",
      "_________________________________________________________________\n",
      "dense_7 (Dense)              (None, 8)                 520       \n",
      "=================================================================\n",
      "Total params: 394,824\n",
      "Trainable params: 394,824\n",
      "Non-trainable params: 0\n",
      "_________________________________________________________________\n"
     ]
    }
   ],
   "source": [
    "model = tf.keras.Sequential([\n",
    "    # Add an Embedding layer expecting input vocab of size 5000, and output embedding dimension of size 64 we set at the top\n",
    "    tf.keras.layers.Embedding(vocab_size, embedding_dim),\n",
    "    tf.keras.layers.Bidirectional(tf.keras.layers.LSTM(embedding_dim)),\n",
    "#    tf.keras.layers.Bidirectional(tf.keras.layers.LSTM(32)),\n",
    "    # use ReLU in place of tanh function since they are very good alternatives of each other.\n",
    "    tf.keras.layers.Dense(embedding_dim, activation='relu'),\n",
    "    # Add a Dense layer with 6 units and softmax activation.\n",
    "    # When we have multiple outputs, softmax convert outputs layers into a probability distribution.\n",
    "    tf.keras.layers.Dense(8, activation='softmax')\n",
    "])\n",
    "model.summary()"
   ]
  },
  {
   "cell_type": "code",
   "execution_count": 76,
   "metadata": {},
   "outputs": [
    {
     "name": "stdout",
     "output_type": "stream",
     "text": [
      "{'education', 'basicneeds', 'misc', 'pets', 'bills', 'medical', 'loan'}\n"
     ]
    }
   ],
   "source": [
    "print(set(labels))"
   ]
  },
  {
   "cell_type": "code",
   "execution_count": 77,
   "metadata": {},
   "outputs": [],
   "source": [
    "model.compile(loss='sparse_categorical_crossentropy', optimizer='adam', metrics=['accuracy'])\n",
    "num_epochs = 50"
   ]
  },
  {
   "cell_type": "code",
   "execution_count": 78,
   "metadata": {},
   "outputs": [
    {
     "name": "stdout",
     "output_type": "stream",
     "text": [
      "Train on 186 samples, validate on 186 samples\n",
      "Epoch 1/50\n",
      " - 3s - loss: 2.0604 - acc: 0.3118 - val_loss: 2.0279 - val_acc: 0.4247\n",
      "Epoch 2/50\n",
      " - 1s - loss: 1.9802 - acc: 0.3763 - val_loss: 1.9194 - val_acc: 0.4247\n",
      "Epoch 3/50\n",
      " - 2s - loss: 1.7907 - acc: 0.3763 - val_loss: 1.8758 - val_acc: 0.4247\n",
      "Epoch 4/50\n",
      " - 2s - loss: 1.6857 - acc: 0.3763 - val_loss: 1.7924 - val_acc: 0.4247\n",
      "Epoch 5/50\n",
      " - 2s - loss: 1.6515 - acc: 0.4140 - val_loss: 1.7893 - val_acc: 0.4247\n",
      "Epoch 6/50\n",
      " - 2s - loss: 1.6056 - acc: 0.3978 - val_loss: 1.7531 - val_acc: 0.4247\n",
      "Epoch 7/50\n",
      " - 2s - loss: 1.5490 - acc: 0.3763 - val_loss: 1.7319 - val_acc: 0.4247\n",
      "Epoch 8/50\n",
      " - 2s - loss: 1.4695 - acc: 0.3763 - val_loss: 1.6827 - val_acc: 0.4247\n",
      "Epoch 9/50\n",
      " - 2s - loss: 1.3180 - acc: 0.3817 - val_loss: 1.7462 - val_acc: 0.4247\n",
      "Epoch 10/50\n",
      " - 2s - loss: 1.1337 - acc: 0.5430 - val_loss: 1.7564 - val_acc: 0.3817\n",
      "Epoch 11/50\n",
      " - 2s - loss: 0.9201 - acc: 0.7043 - val_loss: 1.8684 - val_acc: 0.2043\n",
      "Epoch 12/50\n",
      " - 2s - loss: 0.8495 - acc: 0.6882 - val_loss: 2.2503 - val_acc: 0.3011\n",
      "Epoch 13/50\n",
      " - 2s - loss: 0.7499 - acc: 0.7312 - val_loss: 1.9888 - val_acc: 0.1989\n",
      "Epoch 14/50\n",
      " - 2s - loss: 0.6202 - acc: 0.8011 - val_loss: 2.5038 - val_acc: 0.2903\n",
      "Epoch 15/50\n",
      " - 2s - loss: 0.5265 - acc: 0.8011 - val_loss: 2.2531 - val_acc: 0.2849\n",
      "Epoch 16/50\n",
      " - 2s - loss: 0.4556 - acc: 0.8710 - val_loss: 2.4743 - val_acc: 0.3817\n",
      "Epoch 17/50\n",
      " - 2s - loss: 0.4090 - acc: 0.8925 - val_loss: 2.9843 - val_acc: 0.2581\n",
      "Epoch 18/50\n",
      " - 2s - loss: 0.3684 - acc: 0.8978 - val_loss: 3.1482 - val_acc: 0.3065\n",
      "Epoch 19/50\n",
      " - 2s - loss: 0.3183 - acc: 0.9194 - val_loss: 2.5433 - val_acc: 0.3925\n",
      "Epoch 20/50\n",
      " - 2s - loss: 0.2911 - acc: 0.8871 - val_loss: 2.8216 - val_acc: 0.3602\n",
      "Epoch 21/50\n",
      " - 2s - loss: 0.2521 - acc: 0.9516 - val_loss: 3.1703 - val_acc: 0.3011\n",
      "Epoch 22/50\n",
      " - 2s - loss: 0.2172 - acc: 0.9677 - val_loss: 3.1934 - val_acc: 0.3548\n",
      "Epoch 23/50\n",
      " - 2s - loss: 0.1873 - acc: 0.9677 - val_loss: 3.1451 - val_acc: 0.3656\n",
      "Epoch 24/50\n",
      " - 2s - loss: 0.1474 - acc: 0.9731 - val_loss: 3.2294 - val_acc: 0.3495\n",
      "Epoch 25/50\n",
      " - 2s - loss: 0.1228 - acc: 0.9731 - val_loss: 3.2360 - val_acc: 0.3710\n",
      "Epoch 26/50\n",
      " - 3s - loss: 0.1035 - acc: 0.9731 - val_loss: 3.5707 - val_acc: 0.3710\n",
      "Epoch 27/50\n",
      " - 2s - loss: 0.1040 - acc: 0.9677 - val_loss: 3.6624 - val_acc: 0.3656\n",
      "Epoch 28/50\n",
      " - 2s - loss: 0.1053 - acc: 0.9624 - val_loss: 3.1100 - val_acc: 0.3656\n",
      "Epoch 29/50\n",
      " - 2s - loss: 0.1100 - acc: 0.9677 - val_loss: 3.6203 - val_acc: 0.3978\n",
      "Epoch 30/50\n",
      " - 2s - loss: 0.0876 - acc: 0.9892 - val_loss: 3.5113 - val_acc: 0.3548\n",
      "Epoch 31/50\n",
      " - 2s - loss: 0.0683 - acc: 0.9839 - val_loss: 3.4688 - val_acc: 0.3710\n",
      "Epoch 32/50\n",
      " - 2s - loss: 0.0578 - acc: 0.9839 - val_loss: 3.8582 - val_acc: 0.3763\n",
      "Epoch 33/50\n",
      " - 2s - loss: 0.0500 - acc: 1.0000 - val_loss: 3.8369 - val_acc: 0.3656\n",
      "Epoch 34/50\n",
      " - 2s - loss: 0.0433 - acc: 1.0000 - val_loss: 3.8769 - val_acc: 0.3602\n",
      "Epoch 35/50\n",
      " - 2s - loss: 0.0369 - acc: 1.0000 - val_loss: 4.0228 - val_acc: 0.3871\n",
      "Epoch 36/50\n",
      " - 2s - loss: 0.0324 - acc: 1.0000 - val_loss: 4.1048 - val_acc: 0.3871\n",
      "Epoch 37/50\n",
      " - 2s - loss: 0.0288 - acc: 1.0000 - val_loss: 4.1221 - val_acc: 0.3925\n",
      "Epoch 38/50\n",
      " - 2s - loss: 0.0249 - acc: 1.0000 - val_loss: 4.2577 - val_acc: 0.3656\n",
      "Epoch 39/50\n",
      " - 2s - loss: 0.0219 - acc: 1.0000 - val_loss: 4.3058 - val_acc: 0.3602\n",
      "Epoch 40/50\n",
      " - 2s - loss: 0.0194 - acc: 1.0000 - val_loss: 4.3583 - val_acc: 0.3656\n",
      "Epoch 41/50\n",
      " - 2s - loss: 0.0175 - acc: 1.0000 - val_loss: 4.4306 - val_acc: 0.3602\n",
      "Epoch 42/50\n",
      " - 2s - loss: 0.0155 - acc: 1.0000 - val_loss: 4.4977 - val_acc: 0.3602\n",
      "Epoch 43/50\n",
      " - 3s - loss: 0.0140 - acc: 1.0000 - val_loss: 4.5457 - val_acc: 0.3548\n",
      "Epoch 44/50\n",
      " - 2s - loss: 0.0129 - acc: 1.0000 - val_loss: 4.6017 - val_acc: 0.3602\n",
      "Epoch 45/50\n",
      " - 4s - loss: 0.0119 - acc: 1.0000 - val_loss: 4.6621 - val_acc: 0.3548\n",
      "Epoch 46/50\n",
      " - 2s - loss: 0.0106 - acc: 1.0000 - val_loss: 4.7105 - val_acc: 0.3548\n",
      "Epoch 47/50\n",
      " - 2s - loss: 0.0097 - acc: 1.0000 - val_loss: 4.7749 - val_acc: 0.3548\n",
      "Epoch 48/50\n",
      " - 2s - loss: 0.0089 - acc: 1.0000 - val_loss: 4.8434 - val_acc: 0.3548\n",
      "Epoch 49/50\n",
      " - 2s - loss: 0.0083 - acc: 1.0000 - val_loss: 4.8754 - val_acc: 0.3495\n",
      "Epoch 50/50\n",
      " - 2s - loss: 0.0077 - acc: 1.0000 - val_loss: 4.9062 - val_acc: 0.3495\n"
     ]
    }
   ],
   "source": [
    "history = model.fit(train_padded, training_label_seq, \n",
    "                    epochs=num_epochs, \n",
    "                    validation_data=(validation_padded, validation_label_seq), verbose=2)"
   ]
  },
  {
   "cell_type": "code",
   "execution_count": 79,
   "metadata": {},
   "outputs": [],
   "source": [
    "def plot_graphs(history, string):\n",
    "    \n",
    "    plt.plot(history.history[string])\n",
    "    plt.plot(history.history['val_'+string])\n",
    "    plt.xlabel(\"Epochs\")\n",
    "    plt.ylabel(string)\n",
    "    plt.legend([string, 'val_'+string])\n",
    "    plt.show()"
   ]
  },
  {
   "cell_type": "code",
   "execution_count": 80,
   "metadata": {},
   "outputs": [
    {
     "data": {
      "image/png": "[encoded data removed]",
      "text/plain": [
       "<Figure size 432x288 with 1 Axes>"
      ]
     },
     "metadata": {
      "needs_background": "light"
     },
     "output_type": "display_data"
    },
    {
     "data": {
      "image/png": "[encoded data removed]",
      "text/plain": [
       "<Figure size 432x288 with 1 Axes>"
      ]
     },
     "metadata": {
      "needs_background": "light"
     },
     "output_type": "display_data"
    }
   ],
   "source": [
    "plot_graphs(history, 'acc')\n",
    "plot_graphs(history, \"loss\")"
   ]
  },
  {
   "cell_type": "code",
   "execution_count": null,
   "metadata": {},
   "outputs": [],
   "source": []
  },
  {
   "cell_type": "code",
   "execution_count": null,
   "metadata": {},
   "outputs": [],
   "source": []
  },
  {
   "cell_type": "code",
   "execution_count": null,
   "metadata": {},
   "outputs": [],
   "source": []
  },
  {
   "cell_type": "code",
   "execution_count": null,
   "metadata": {},
   "outputs": [],
   "source": []
  },
  {
   "cell_type": "code",
   "execution_count": null,
   "metadata": {},
   "outputs": [],
   "source": []
  },
  {
   "cell_type": "code",
   "execution_count": null,
   "metadata": {},
   "outputs": [],
   "source": []
  }
 ],
 "metadata": {
  "kernelspec": {
   "display_name": "Python 3",
   "language": "python",
   "name": "python3"
  },
  "language_info": {
   "codemirror_mode": {
    "name": "ipython",
    "version": 3
   },
   "file_extension": ".py",
   "mimetype": "text/x-python",
   "name": "python",
   "nbconvert_exporter": "python",
   "pygments_lexer": "ipython3",
   "version": "3.7.6"
  }
 },
 "nbformat": 4,
 "nbformat_minor": 2
}
