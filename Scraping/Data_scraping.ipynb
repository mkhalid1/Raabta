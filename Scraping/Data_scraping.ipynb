{
 "cells": [
  {
   "cell_type": "code",
   "execution_count": 2,
   "metadata": {},
   "outputs": [],
   "source": [
    "import praw  \n",
    "import pandas as pd  \n",
    "import numpy as np"
   ]
  },
  {
   "cell_type": "code",
   "execution_count": 3,
   "metadata": {},
   "outputs": [],
   "source": [
    "reddit = praw.Reddit(client_id='0rr-7cBdvQvn_A',  \n",
    "                     client_secret='3TIwcnt2H_jSdJUJtkk2BtuFFvI', \n",
    "                     user_agent='Raabta') "
   ]
  },
  {
   "cell_type": "code",
   "execution_count": 4,
   "metadata": {},
   "outputs": [
    {
     "data": {
      "text/html": [
       "<div>\n",
       "<style scoped>\n",
       "    .dataframe tbody tr th:only-of-type {\n",
       "        vertical-align: middle;\n",
       "    }\n",
       "\n",
       "    .dataframe tbody tr th {\n",
       "        vertical-align: top;\n",
       "    }\n",
       "\n",
       "    .dataframe thead th {\n",
       "        text-align: right;\n",
       "    }\n",
       "</style>\n",
       "<table border=\"1\" class=\"dataframe\">\n",
       "  <thead>\n",
       "    <tr style=\"text-align: right;\">\n",
       "      <th></th>\n",
       "      <th>title</th>\n",
       "      <th>score</th>\n",
       "      <th>id</th>\n",
       "      <th>subreddit</th>\n",
       "      <th>url</th>\n",
       "      <th>num_comments</th>\n",
       "      <th>body</th>\n",
       "      <th>created</th>\n",
       "    </tr>\n",
       "  </thead>\n",
       "  <tbody>\n",
       "    <tr>\n",
       "      <td>0</td>\n",
       "      <td>Collage tuition</td>\n",
       "      <td>1</td>\n",
       "      <td>eplbog</td>\n",
       "      <td>donate</td>\n",
       "      <td>https://www.reddit.com/r/donate/comments/eplbo...</td>\n",
       "      <td>0</td>\n",
       "      <td>Hello,\\n\\nMy name is Marko and i'm 21 years ol...</td>\n",
       "      <td>1.579220e+09</td>\n",
       "    </tr>\n",
       "    <tr>\n",
       "      <td>1</td>\n",
       "      <td>Please help me take my dog to the vet.</td>\n",
       "      <td>1</td>\n",
       "      <td>epl9f9</td>\n",
       "      <td>donate</td>\n",
       "      <td>https://www.reddit.com/r/donate/comments/epl9f...</td>\n",
       "      <td>0</td>\n",
       "      <td>Hi, I've never done this before; on reddit. I'...</td>\n",
       "      <td>1.579219e+09</td>\n",
       "    </tr>\n",
       "    <tr>\n",
       "      <td>2</td>\n",
       "      <td>Please help</td>\n",
       "      <td>0</td>\n",
       "      <td>ephb9i</td>\n",
       "      <td>donate</td>\n",
       "      <td>https://www.reddit.com/r/donate/comments/ephb9...</td>\n",
       "      <td>0</td>\n",
       "      <td>Please help\\n\\nHello there. I’m 43f and I live...</td>\n",
       "      <td>1.579197e+09</td>\n",
       "    </tr>\n",
       "    <tr>\n",
       "      <td>3</td>\n",
       "      <td>In serious need of help with food and bills!</td>\n",
       "      <td>0</td>\n",
       "      <td>epc9yq</td>\n",
       "      <td>donate</td>\n",
       "      <td>https://www.reddit.com/r/donate/comments/epc9y...</td>\n",
       "      <td>0</td>\n",
       "      <td>I don't know a better way to say this so plain...</td>\n",
       "      <td>1.579168e+09</td>\n",
       "    </tr>\n",
       "    <tr>\n",
       "      <td>4</td>\n",
       "      <td>Raising Money for Australian Fires</td>\n",
       "      <td>1</td>\n",
       "      <td>epc2kz</td>\n",
       "      <td>donate</td>\n",
       "      <td>https://www.reddit.com/r/donate/comments/epc2k...</td>\n",
       "      <td>0</td>\n",
       "      <td>We're raising money to help with the bush fire...</td>\n",
       "      <td>1.579167e+09</td>\n",
       "    </tr>\n",
       "    <tr>\n",
       "      <td>...</td>\n",
       "      <td>...</td>\n",
       "      <td>...</td>\n",
       "      <td>...</td>\n",
       "      <td>...</td>\n",
       "      <td>...</td>\n",
       "      <td>...</td>\n",
       "      <td>...</td>\n",
       "      <td>...</td>\n",
       "    </tr>\n",
       "    <tr>\n",
       "      <td>3672</td>\n",
       "      <td>[Request] An interview with an American born 1...</td>\n",
       "      <td>13</td>\n",
       "      <td>e1mikr</td>\n",
       "      <td>RandomKindness</td>\n",
       "      <td>https://www.reddit.com/r/RandomKindness/commen...</td>\n",
       "      <td>5</td>\n",
       "      <td>While I will be asking questions and writing n...</td>\n",
       "      <td>1.574744e+09</td>\n",
       "    </tr>\n",
       "    <tr>\n",
       "      <td>3673</td>\n",
       "      <td>[Offer] Redbox Code</td>\n",
       "      <td>12</td>\n",
       "      <td>e1neb1</td>\n",
       "      <td>RandomKindness</td>\n",
       "      <td>https://www.reddit.com/r/RandomKindness/commen...</td>\n",
       "      <td>5</td>\n",
       "      <td>OFFER CLAIMED - Have fun and happy holidays! :...</td>\n",
       "      <td>1.574747e+09</td>\n",
       "    </tr>\n",
       "    <tr>\n",
       "      <td>3674</td>\n",
       "      <td>[REQUEST] Unwanted Postage stamps</td>\n",
       "      <td>52</td>\n",
       "      <td>e1fnoe</td>\n",
       "      <td>RandomKindness</td>\n",
       "      <td>https://www.reddit.com/r/RandomKindness/commen...</td>\n",
       "      <td>23</td>\n",
       "      <td>Hey reddit !\\n\\ni am a stamp collector living ...</td>\n",
       "      <td>1.574715e+09</td>\n",
       "    </tr>\n",
       "    <tr>\n",
       "      <td>3675</td>\n",
       "      <td>[OFFER] Metallica Ride the Lightning t-shirt M...</td>\n",
       "      <td>8</td>\n",
       "      <td>e1pcvz</td>\n",
       "      <td>RandomKindness</td>\n",
       "      <td>https://www.reddit.com/r/RandomKindness/commen...</td>\n",
       "      <td>9</td>\n",
       "      <td>Will ship to USA or Canada</td>\n",
       "      <td>1.574755e+09</td>\n",
       "    </tr>\n",
       "    <tr>\n",
       "      <td>3676</td>\n",
       "      <td>[Request] Someone to look over my final paper?</td>\n",
       "      <td>20</td>\n",
       "      <td>e1iado</td>\n",
       "      <td>RandomKindness</td>\n",
       "      <td>https://www.reddit.com/r/RandomKindness/commen...</td>\n",
       "      <td>10</td>\n",
       "      <td>Hi! I'm a first semester Master's student and ...</td>\n",
       "      <td>1.574728e+09</td>\n",
       "    </tr>\n",
       "  </tbody>\n",
       "</table>\n",
       "<p>3677 rows × 8 columns</p>\n",
       "</div>"
      ],
      "text/plain": [
       "                                                  title  score      id  \\\n",
       "0                                       Collage tuition      1  eplbog   \n",
       "1                Please help me take my dog to the vet.      1  epl9f9   \n",
       "2                                           Please help      0  ephb9i   \n",
       "3          In serious need of help with food and bills!      0  epc9yq   \n",
       "4                    Raising Money for Australian Fires      1  epc2kz   \n",
       "...                                                 ...    ...     ...   \n",
       "3672  [Request] An interview with an American born 1...     13  e1mikr   \n",
       "3673                                [Offer] Redbox Code     12  e1neb1   \n",
       "3674                  [REQUEST] Unwanted Postage stamps     52  e1fnoe   \n",
       "3675  [OFFER] Metallica Ride the Lightning t-shirt M...      8  e1pcvz   \n",
       "3676     [Request] Someone to look over my final paper?     20  e1iado   \n",
       "\n",
       "           subreddit                                                url  \\\n",
       "0             donate  https://www.reddit.com/r/donate/comments/eplbo...   \n",
       "1             donate  https://www.reddit.com/r/donate/comments/epl9f...   \n",
       "2             donate  https://www.reddit.com/r/donate/comments/ephb9...   \n",
       "3             donate  https://www.reddit.com/r/donate/comments/epc9y...   \n",
       "4             donate  https://www.reddit.com/r/donate/comments/epc2k...   \n",
       "...              ...                                                ...   \n",
       "3672  RandomKindness  https://www.reddit.com/r/RandomKindness/commen...   \n",
       "3673  RandomKindness  https://www.reddit.com/r/RandomKindness/commen...   \n",
       "3674  RandomKindness  https://www.reddit.com/r/RandomKindness/commen...   \n",
       "3675  RandomKindness  https://www.reddit.com/r/RandomKindness/commen...   \n",
       "3676  RandomKindness  https://www.reddit.com/r/RandomKindness/commen...   \n",
       "\n",
       "      num_comments                                               body  \\\n",
       "0                0  Hello,\\n\\nMy name is Marko and i'm 21 years ol...   \n",
       "1                0  Hi, I've never done this before; on reddit. I'...   \n",
       "2                0  Please help\\n\\nHello there. I’m 43f and I live...   \n",
       "3                0  I don't know a better way to say this so plain...   \n",
       "4                0  We're raising money to help with the bush fire...   \n",
       "...            ...                                                ...   \n",
       "3672             5  While I will be asking questions and writing n...   \n",
       "3673             5  OFFER CLAIMED - Have fun and happy holidays! :...   \n",
       "3674            23  Hey reddit !\\n\\ni am a stamp collector living ...   \n",
       "3675             9                         Will ship to USA or Canada   \n",
       "3676            10  Hi! I'm a first semester Master's student and ...   \n",
       "\n",
       "           created  \n",
       "0     1.579220e+09  \n",
       "1     1.579219e+09  \n",
       "2     1.579197e+09  \n",
       "3     1.579168e+09  \n",
       "4     1.579167e+09  \n",
       "...            ...  \n",
       "3672  1.574744e+09  \n",
       "3673  1.574747e+09  \n",
       "3674  1.574715e+09  \n",
       "3675  1.574755e+09  \n",
       "3676  1.574728e+09  \n",
       "\n",
       "[3677 rows x 8 columns]"
      ]
     },
     "execution_count": 4,
     "metadata": {},
     "output_type": "execute_result"
    }
   ],
   "source": [
    "# get posts from the subreddits related to donations \n",
    "hot_post_1 = reddit.subreddit('donate').hot(limit= 5000) \n",
    "hot_post_2 = reddit.subreddit('Assistance').hot(limit= 5000) \n",
    "hot_post_3 = reddit.subreddit('Charity').hot(limit= 5000) \n",
    "hot_post_4 = reddit.subreddit('Donation').hot(limit= 5000) \n",
    "hot_post_5 = reddit.subreddit('gofundme').hot(limit= 5000) \n",
    "hot_post_6 = reddit.subreddit('RandomKindness').hot(limit= 5000) \n",
    "\n",
    "\n",
    "posts = []\n",
    "for post in hot_post_1:\n",
    "    posts.append([post.title, post.score, post.id, post.subreddit, post.url, post.num_comments, post.selftext, post.created])\n",
    "\n",
    "for post in hot_post_2:\n",
    "    posts.append([post.title, post.score, post.id, post.subreddit, post.url, post.num_comments, post.selftext, post.created])\n",
    "    \n",
    "for post in hot_post_3:\n",
    "    posts.append([post.title, post.score, post.id, post.subreddit, post.url, post.num_comments, post.selftext, post.created])\n",
    "\n",
    "for post in hot_post_4:\n",
    "    posts.append([post.title, post.score, post.id, post.subreddit, post.url, post.num_comments, post.selftext, post.created])\n",
    "    \n",
    "for post in hot_post_5:\n",
    "    posts.append([post.title, post.score, post.id, post.subreddit, post.url, post.num_comments, post.selftext, post.created])\n",
    "    \n",
    "for post in hot_post_6:\n",
    "    posts.append([post.title, post.score, post.id, post.subreddit, post.url, post.num_comments, post.selftext, post.created])\n",
    "    \n",
    "\n",
    "posts = pd.DataFrame(posts,columns=['title', 'score', 'id', 'subreddit', 'url', 'num_comments', 'body', 'created'])\n",
    "#posts"
   ]
  },
  {
   "cell_type": "code",
   "execution_count": 5,
   "metadata": {},
   "outputs": [],
   "source": [
    "df = pd.DataFrame(data=posts)"
   ]
  },
  {
   "cell_type": "code",
   "execution_count": 6,
   "metadata": {},
   "outputs": [],
   "source": [
    "dataframe = df.to_csv(r'donations.csv')"
   ]
  },
  {
   "cell_type": "markdown",
   "metadata": {},
   "source": [
    "## Data Processing"
   ]
  },
  {
   "cell_type": "code",
   "execution_count": 7,
   "metadata": {},
   "outputs": [],
   "source": [
    "df = pd.read_csv('donations.csv')"
   ]
  },
  {
   "cell_type": "code",
   "execution_count": 8,
   "metadata": {},
   "outputs": [],
   "source": [
    "df = df.drop(['id', 'subreddit', 'num_comments', 'url', 'created'],1)"
   ]
  },
  {
   "cell_type": "code",
   "execution_count": 9,
   "metadata": {},
   "outputs": [],
   "source": [
    "df = df[['title', 'score','body']]"
   ]
  },
  {
   "cell_type": "code",
   "execution_count": 13,
   "metadata": {},
   "outputs": [
    {
     "name": "stdout",
     "output_type": "stream",
     "text": [
      "                                          title  score  \\\n",
      "0                               Collage tuition      1   \n",
      "1        Please help me take my dog to the vet.      1   \n",
      "2                                   Please help      0   \n",
      "3  In serious need of help with food and bills!      0   \n",
      "4            Raising Money for Australian Fires      1   \n",
      "\n",
      "                                                body  \n",
      "0  Hello,\\n\\nMy name is Marko and i'm 21 years ol...  \n",
      "1  Hi, I've never done this before; on reddit. I'...  \n",
      "2  Please help\\n\\nHello there. I’m 43f and I live...  \n",
      "3  I don't know a better way to say this so plain...  \n",
      "4  We're raising money to help with the bush fire...  \n"
     ]
    }
   ],
   "source": [
    "print(df.head())"
   ]
  },
  {
   "cell_type": "code",
   "execution_count": 11,
   "metadata": {},
   "outputs": [
    {
     "data": {
      "text/plain": [
       "(3677, 3)"
      ]
     },
     "execution_count": 11,
     "metadata": {},
     "output_type": "execute_result"
    }
   ],
   "source": [
    "df.shape"
   ]
  },
  {
   "cell_type": "code",
   "execution_count": 12,
   "metadata": {},
   "outputs": [],
   "source": [
    "dataframe = df.to_csv(r'donations.csv')"
   ]
  }
 ],
 "metadata": {
  "kernelspec": {
   "display_name": "Python 3",
   "language": "python",
   "name": "python3"
  },
  "language_info": {
   "codemirror_mode": {
    "name": "ipython",
    "version": 3
   },
   "file_extension": ".py",
   "mimetype": "text/x-python",
   "name": "python",
   "nbconvert_exporter": "python",
   "pygments_lexer": "ipython3",
   "version": "3.6.8"
  }
 },
 "nbformat": 4,
 "nbformat_minor": 2
}
