{
 "cells": [
  {
   "cell_type": "code",
   "execution_count": 2,
   "metadata": {},
   "outputs": [],
   "source": [
    "from facebook_scraper import get_posts"
   ]
  },
  {
   "cell_type": "markdown",
   "metadata": {},
   "source": [
    "#### For Groups"
   ]
  },
  {
   "cell_type": "code",
   "execution_count": 94,
   "metadata": {
    "scrolled": true
   },
   "outputs": [
    {
     "name": "stdout",
     "output_type": "stream",
     "text": [
      "23\n"
     ]
    }
   ],
   "source": [
    "count = 0\n",
    "posts = []\n",
    "for post in get_posts(group= 1259852177422636, credentials= (),pages=1):\n",
    "    posts.append(post)\n",
    "    count+=1\n",
    "print(count)"
   ]
  },
  {
   "cell_type": "code",
   "execution_count": 101,
   "metadata": {},
   "outputs": [
    {
     "name": "stdout",
     "output_type": "stream",
     "text": [
      "3\n"
     ]
    }
   ],
   "source": [
    "print(posts[5]['likes'])"
   ]
  },
  {
   "cell_type": "code",
   "execution_count": null,
   "metadata": {},
   "outputs": [],
   "source": []
  },
  {
   "cell_type": "code",
   "execution_count": null,
   "metadata": {},
   "outputs": [],
   "source": []
  },
  {
   "cell_type": "markdown",
   "metadata": {},
   "source": [
    "{'post_id': '2257188721032235',\n",
    " 'text': 'Don’t let this diminutive version of the Hero of Time fool you, '\n",
    "         'Young Link is just as heroic as his fully grown version! Young Link '\n",
    "         'joins the Super Smash Bros. series of amiibo figures!',\n",
    " 'time': datetime.datetime(2019, 4, 29, 12, 0, 1),\n",
    " 'image': 'https://scontent.flim16-1.fna.fbcdn.net'\n",
    "          '/v/t1.0-0/cp0/e15/q65/p320x320'\n",
    "          '/58680860_2257182054366235_1985558733786185728_n.jpg'\n",
    "          '?_nc_cat=1&_nc_ht=scontent.flim16-1.fna'\n",
    "          '&oh=31b0ba32ec7886e95a5478c479ba1d38&oe=5D6CDEE4',\n",
    " 'likes': 2036,\n",
    " 'comments': 214,\n",
    " 'shares': 0,\n",
    " 'post_url': 'https://m.facebook.com/story.php'\n",
    "             '?story_fbid=2257188721032235&id=119240841493711',\n",
    " 'link': 'https://bit.ly/something'}"
   ]
  },
  {
   "cell_type": "markdown",
   "metadata": {},
   "source": [
    "#### For Pages"
   ]
  },
  {
   "cell_type": "code",
   "execution_count": 3,
   "metadata": {},
   "outputs": [
    {
     "name": "stdout",
     "output_type": "stream",
     "text": [
      "2\n"
     ]
    }
   ],
   "source": [
    "count = 0\n",
    "for post in get_posts('AlImdaadFoundationUK', credentials = ('username','password'), pages=1):\n",
    "#     print(post['text'])\n",
    "#     print('\\n\\n\\n\\n\\n\\n')\n",
    "    count+=1\n",
    "print(count)"
   ]
  }
 ],
 "metadata": {
  "kernelspec": {
   "display_name": "Python 3",
   "language": "python",
   "name": "python3"
  },
  "language_info": {
   "codemirror_mode": {
    "name": "ipython",
    "version": 3
   },
   "file_extension": ".py",
   "mimetype": "text/x-python",
   "name": "python",
   "nbconvert_exporter": "python",
   "pygments_lexer": "ipython3",
   "version": "3.6.8"
  }
 },
 "nbformat": 4,
 "nbformat_minor": 2
}
